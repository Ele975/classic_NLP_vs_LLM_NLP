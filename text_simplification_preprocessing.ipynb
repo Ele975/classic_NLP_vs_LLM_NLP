{
  "nbformat": 4,
  "nbformat_minor": 0,
  "metadata": {
    "colab": {
      "provenance": []
    },
    "kernelspec": {
      "name": "python3",
      "display_name": "Python 3"
    },
    "language_info": {
      "name": "python"
    }
  },
  "cells": [
    {
      "cell_type": "markdown",
      "source": [
        "# Setup section"
      ],
      "metadata": {
        "id": "vVNSSplQRFm7"
      }
    },
    {
      "cell_type": "code",
      "source": [
        "!pip install openai==0.28"
      ],
      "metadata": {
        "colab": {
          "base_uri": "https://localhost:8080/"
        },
        "id": "000MLefSvlvD",
        "outputId": "6247bf69-a1eb-43f7-8de7-1b0cc3f792f4"
      },
      "execution_count": null,
      "outputs": [
        {
          "output_type": "stream",
          "name": "stdout",
          "text": [
            "Collecting openai==0.28\n",
            "  Downloading openai-0.28.0-py3-none-any.whl (76 kB)\n",
            "\u001b[?25l     \u001b[90m━━━━━━━━━━━━━━━━━━━━━━━━━━━━━━━━━━━━━━━━\u001b[0m \u001b[32m0.0/76.5 kB\u001b[0m \u001b[31m?\u001b[0m eta \u001b[36m-:--:--\u001b[0m\r\u001b[2K     \u001b[91m━━━━━━━━━━━━━━━━━━━━━━━━━━━━━━━━━━━━━\u001b[0m\u001b[90m╺\u001b[0m\u001b[90m━━\u001b[0m \u001b[32m71.7/76.5 kB\u001b[0m \u001b[31m2.3 MB/s\u001b[0m eta \u001b[36m0:00:01\u001b[0m\r\u001b[2K     \u001b[90m━━━━━━━━━━━━━━━━━━━━━━━━━━━━━━━━━━━━━━━━\u001b[0m \u001b[32m76.5/76.5 kB\u001b[0m \u001b[31m1.7 MB/s\u001b[0m eta \u001b[36m0:00:00\u001b[0m\n",
            "\u001b[?25hRequirement already satisfied: requests>=2.20 in /usr/local/lib/python3.10/dist-packages (from openai==0.28) (2.31.0)\n",
            "Requirement already satisfied: tqdm in /usr/local/lib/python3.10/dist-packages (from openai==0.28) (4.66.2)\n",
            "Requirement already satisfied: aiohttp in /usr/local/lib/python3.10/dist-packages (from openai==0.28) (3.9.5)\n",
            "Requirement already satisfied: charset-normalizer<4,>=2 in /usr/local/lib/python3.10/dist-packages (from requests>=2.20->openai==0.28) (3.3.2)\n",
            "Requirement already satisfied: idna<4,>=2.5 in /usr/local/lib/python3.10/dist-packages (from requests>=2.20->openai==0.28) (3.7)\n",
            "Requirement already satisfied: urllib3<3,>=1.21.1 in /usr/local/lib/python3.10/dist-packages (from requests>=2.20->openai==0.28) (2.0.7)\n",
            "Requirement already satisfied: certifi>=2017.4.17 in /usr/local/lib/python3.10/dist-packages (from requests>=2.20->openai==0.28) (2024.2.2)\n",
            "Requirement already satisfied: aiosignal>=1.1.2 in /usr/local/lib/python3.10/dist-packages (from aiohttp->openai==0.28) (1.3.1)\n",
            "Requirement already satisfied: attrs>=17.3.0 in /usr/local/lib/python3.10/dist-packages (from aiohttp->openai==0.28) (23.2.0)\n",
            "Requirement already satisfied: frozenlist>=1.1.1 in /usr/local/lib/python3.10/dist-packages (from aiohttp->openai==0.28) (1.4.1)\n",
            "Requirement already satisfied: multidict<7.0,>=4.5 in /usr/local/lib/python3.10/dist-packages (from aiohttp->openai==0.28) (6.0.5)\n",
            "Requirement already satisfied: yarl<2.0,>=1.0 in /usr/local/lib/python3.10/dist-packages (from aiohttp->openai==0.28) (1.9.4)\n",
            "Requirement already satisfied: async-timeout<5.0,>=4.0 in /usr/local/lib/python3.10/dist-packages (from aiohttp->openai==0.28) (4.0.3)\n",
            "Installing collected packages: openai\n",
            "Successfully installed openai-0.28.0\n"
          ]
        }
      ]
    },
    {
      "cell_type": "code",
      "source": [
        "import openai"
      ],
      "metadata": {
        "id": "KH4Qh2R9tjiP"
      },
      "execution_count": null,
      "outputs": []
    },
    {
      "cell_type": "markdown",
      "source": [
        "# Prompt section"
      ],
      "metadata": {
        "id": "Cp5A0X_uRKNM"
      }
    },
    {
      "cell_type": "markdown",
      "source": [
        "Examples used for the one-shot and few-shot prompting"
      ],
      "metadata": {
        "id": "u1Ggfb5URMmO"
      }
    },
    {
      "cell_type": "code",
      "source": [
        "# ex12\n",
        "ex1_input = \"\"\"\n",
        "The company is organised into departments. Each department has a unique name, a unique number, and a particular employee who manages the department.\n",
        "We keep track of the start date when that employee began managing the department. A department may have several locations.\n",
        "A department controls a number of projects, each of which has a unique name, a unique number, and a single location.\n",
        "We store each employee’s name, Social Security number, address, salary, sex (gender), and birth date.\n",
        "An employee is assigned to one department, but may work on several projects, which are not necessarily controlled by the same department.\n",
        "We keep track of the current number of hours per week that an employee works on each project. We also keep track of the direct supervisor of each employee (who is another employee).\n",
        "We want to keep track of the dependents of each employee for insurance purposes. We keep each dependent’s first name, sex, number, birth date, and relationship to the employee.\n",
        "\"\"\"\n",
        "\n",
        "ex1_output = \"\"\"\n",
        "Each department has a name and number. The department’s name is unique. The department’s number is unique.\n",
        "The department is managed by a unique employee. The managing has a starting date. A department may have several locations.\n",
        "A department controls zero or more projects. The project has a name, number, and location. The project’s name is unique.\n",
        "The project’s number is unique. The employee has a Social Security Number, address, salary, sex, and birth date.\n",
        "An employee is assigned to one department. An employee can work on several projects. The working has a current number of hours per week.\n",
        "An employee can supervise zero or many employees. An employee can have one or more dependents. A dependent has a first name, sex, number, birth date, and relationship.\n",
        "\"\"\"\n",
        "\n",
        "# ex11\n",
        "ex2_input = \"\"\"\n",
        "The database must store painters, paintings, and galleries information. Painters have a unique number, Name, and phone number.\n",
        "Paintings have a unique number, title and price. Galleries have a unique number, owner, phone number, commission rate and address.\n",
        "A painting is painted by a particular artist, and that painting is exhibited in a particular gallery.\n",
        "A gallery can exhibit many paintings, but each painting can be exhibited in only one gallery.\n",
        "Similarity, a painting is painted by a single painter, but each painter can paint many paintings.\n",
        "\"\"\"\n",
        "\n",
        "ex2_output = \"\"\"\n",
        "The database must store painters, paintings, and galleries.\n",
        "Painters have a number, name, and phone number. The painter’s number is unique. Paintings have a number, title and price.\n",
        "The painting’s number is unique. Galleries have a number, owner, phone number, commission rate and address.\n",
        "The gallerie’s number is unique. A painting is painted by a unique artist, and the painting is exhibited in a unique gallery.\n",
        "A gallery can exhibit many paintings, but each painting can be exhibited in only one gallery.\n",
        "A painting is painted by a single painter, but each painter can paint many paintings.\n",
        "\"\"\""
      ],
      "metadata": {
        "id": "0s1TdYE6Jcet"
      },
      "execution_count": null,
      "outputs": []
    },
    {
      "cell_type": "markdown",
      "source": [
        "One-shot prompting\n",
        "\n",
        "Problems:\n",
        "- put 'unique' attributes in a separated sentence (easier to handle)"
      ],
      "metadata": {
        "id": "oFf5YfdbLC28"
      }
    },
    {
      "cell_type": "code",
      "execution_count": null,
      "metadata": {
        "colab": {
          "base_uri": "https://localhost:8080/"
        },
        "id": "57hNjAZltTQ2",
        "outputId": "dc06b722-8078-49d9-9f9d-fae2ed886871"
      },
      "outputs": [
        {
          "output_type": "stream",
          "name": "stdout",
          "text": [
            "___________\n",
            "Output text:\n",
            "```\n",
            "The database stores painters, paintings, and galleries. \n",
            "A painter has a unique number, name, and phone number. \n",
            "A painting has a unique number, title, and price. \n",
            "A gallery has a unique number, owner, phone number, commission rate, and address. \n",
            "A painting is painted by one painter. \n",
            "A painting is exhibited in one gallery. \n",
            "A gallery can exhibit many paintings. \n",
            "A painter can paint many paintings.\n",
            "```\n",
            "___________\n",
            "Correct output text:\n",
            " \n",
            "The database must store painters, paintings, and galleries.\n",
            "Painters have a number, name, and phone number. The painter’s number is unique.\n",
            "Paintings have a number, title and price. The painting’s number is unique.\n",
            "Galleries have a number, owner, phone number, commission rate and address. The gallerie’s number is unique.\n",
            "A painting is painted by a unique artist, and the painting is exhibited in a unique gallery.\n",
            "A gallery can exhibit many paintings, but each painting can be exhibited in only one gallery.\n",
            "Each painter can paint many paintings.\n",
            "\n"
          ]
        }
      ],
      "source": [
        "# Key that gives an access to openai account\n",
        "openai.api_key = 'key_code'\n",
        "\n",
        "# parameter controlling randomness of the output\n",
        "temp = 0.0\n",
        "\n",
        "\n",
        "def get_completion(prompt, model=\"gpt-4\"):\n",
        "    messages = [{\"role\": \"user\", \"content\": prompt}]\n",
        "    response = openai.ChatCompletion.create(\n",
        "        model=model,\n",
        "        messages=messages,\n",
        "        temperature=temp, # this is the degree of randomness of the model's output\n",
        "    )\n",
        "    return response.choices[0].message[\"content\"]\n",
        "\n",
        "\n",
        "text = \"\"\"The database must store painters, paintings, and galleries information.\n",
        "Painters have a unique number, Name, and phone number. Paintings have a unique number, title and price.\n",
        "Galleries have a unique number, owner, phone number, commission rate and address.\n",
        "A painting is painted by a particular artist, and that painting is exhibited in a particular gallery.\n",
        "A gallery can exhibit many paintings, but each painting can be exhibited in only one gallery.\n",
        "Similarity, a painting is painted by a single painter, but each painter can paint many paintings.\n",
        "\"\"\"\n",
        "\n",
        "correct_text = \"\"\"\n",
        "The database must store painters, paintings, and galleries.\n",
        "Painters have a number, name, and phone number. The painter’s number is unique.\n",
        "Paintings have a number, title and price. The painting’s number is unique.\n",
        "Galleries have a number, owner, phone number, commission rate and address. The gallerie’s number is unique.\n",
        "A painting is painted by a unique artist, and the painting is exhibited in a unique gallery.\n",
        "A gallery can exhibit many paintings, but each painting can be exhibited in only one gallery.\n",
        "Each painter can paint many paintings.\n",
        "\"\"\"\n",
        "\n",
        "prompt = f\"\"\"\n",
        "The task is to extract an Entity-relationship diagram from natural language requirements.\n",
        "To do that, these requirements should be simplified as much as possible for the extraction of entities,\n",
        "attributes and relationships (i.e. short and simple sentences, explicit subjects, etc.).\n",
        "two examples of semplification are given below, where the 'input text' is the original text and the 'output text' is the simplified text:\n",
        "\n",
        "Input text:\n",
        "'\n",
        "{ex1_input}\n",
        "'\n",
        "\n",
        "Output text:\n",
        "'\n",
        "{ex1_output}\n",
        "'\n",
        "\n",
        "Simplify as shown above the following text delimited by triple backticks, remembering to not remove any information and creating short and simple sentences:\n",
        "\n",
        "Text:\n",
        "```{text}```\n",
        "\"\"\"\n",
        "\n",
        "answers = []\n",
        "print(\"___________\")\n",
        "for i in range(1):\n",
        "    response = get_completion(prompt)\n",
        "    answers.append(response)\n",
        "\n",
        "for x in answers:\n",
        "    print(x)\n",
        "\n",
        "    print(\"___________\")\n",
        "\n",
        "print('Correct output text:\\n', correct_text)"
      ]
    },
    {
      "cell_type": "markdown",
      "source": [
        "Few-shot prompting - attempt 1\n",
        "\n",
        "Problems:\n",
        "- cannot recognize and avoid repetitive sentences with synonyms (e.g. A painting is painted by one artist, A painting is painted by one painter)"
      ],
      "metadata": {
        "id": "0i7q_IKbLGN7"
      }
    },
    {
      "cell_type": "code",
      "source": [
        "text = \"\"\"The database must store painters, paintings, and galleries information.\n",
        "Painters have a unique number, Name, and phone number. Paintings have a unique number, title and price.\n",
        "Galleries have a unique number, owner, phone number, commission rate and address.\n",
        "A painting is painted by a particular artist, and that painting is exhibited in a particular gallery.\n",
        "A gallery can exhibit many paintings, but each painting can be exhibited in only one gallery.\n",
        "Similarity, a painting is painted by a single painter, but each painter can paint many paintings.\n",
        "\"\"\"\n",
        "\n",
        "prompt = f\"\"\"\n",
        "The task is to extract an Entity-relationship diagram from natural language requirements.\n",
        "To do that, these requirements should be simplified as much as possible for the extraction of entities,\n",
        "attributes and relationships (i.e. short and simple sentences, explicit subjects, etc.).\n",
        "Two examples of semplification are given below, where the 'input text' is the original text and the 'output text' is the simplified text:\n",
        "\n",
        "Input text:\n",
        "'\n",
        "{ex1_input}\n",
        "'\n",
        "\n",
        "Output text:\n",
        "'\n",
        "{ex1_output}\n",
        "'\n",
        "\n",
        "Input text:\n",
        "'\n",
        "{ex2_input}\n",
        "'\n",
        "\n",
        "Output text:\n",
        "'\n",
        "{ex2_output}\n",
        "'\n",
        "\n",
        "Simplify as shown above the following text delimited by triple backticks, remembering to not remove any information and creating short and simple sentences:\n",
        "\n",
        "Text:\n",
        "```{text}```\n",
        "\"\"\"\n",
        "\n",
        "answers = []\n",
        "print(\"___________\")\n",
        "for i in range(1):\n",
        "    response = get_completion(prompt)\n",
        "    answers.append(response)\n",
        "\n",
        "for x in answers:\n",
        "    print(x)\n",
        "\n",
        "    print(\"___________\")\n",
        "\n",
        "print('Correct output text:\\n', correct_text)"
      ],
      "metadata": {
        "colab": {
          "base_uri": "https://localhost:8080/"
        },
        "id": "heCnJsrvGLPR",
        "outputId": "8f50c800-a947-4589-fa11-19acf0219d4f"
      },
      "execution_count": null,
      "outputs": [
        {
          "output_type": "stream",
          "name": "stdout",
          "text": [
            "___________\n",
            "Output text:\n",
            "```\n",
            "The database stores painters, paintings, and galleries.\n",
            "Painters have a number, name, and phone number. The painter's number is unique.\n",
            "Paintings have a number, title, and price. The painting's number is unique.\n",
            "Galleries have a number, owner, phone number, commission rate, and address. The gallery's number is unique.\n",
            "A painting is painted by one artist. The painting is exhibited in one gallery.\n",
            "A gallery can exhibit multiple paintings. Each painting is exhibited in only one gallery.\n",
            "A painting is painted by one painter. A painter can paint multiple paintings.\n",
            "```\n",
            "___________\n",
            "Correct output text:\n",
            " \n",
            "The database must store painters, paintings, and galleries.\n",
            "Painters have a number, name, and phone number. The painter’s number is unique.\n",
            "Paintings have a number, title and price. The painting’s number is unique.\n",
            "Galleries have a number, owner, phone number, commission rate and address. The gallerie’s number is unique.\n",
            "A painting is painted by a unique artist, and the painting is exhibited in a unique gallery.\n",
            "A gallery can exhibit many paintings, but each painting can be exhibited in only one gallery.\n",
            "Each painter can paint many paintings.\n",
            "\n"
          ]
        }
      ]
    },
    {
      "cell_type": "markdown",
      "source": [
        "Few_shot prompting - attemp 2\n",
        "\n",
        "Minor problem:\n",
        "- doesn't remove repetitive sentence (not a problem since repetitions are removed in the arrays)"
      ],
      "metadata": {
        "id": "5PeytY9g6JE8"
      }
    },
    {
      "cell_type": "code",
      "source": [
        "text = \"\"\"The database must store painters, paintings, and galleries information.\n",
        "Painters have a unique number, Name, and phone number. Paintings have a unique number, title and price.\n",
        "Galleries have a unique number, owner, phone number, commission rate and address.\n",
        "A painting is painted by a particular artist, and that painting is exhibited in a particular gallery.\n",
        "A gallery can exhibit many paintings, but each painting can be exhibited in only one gallery.\n",
        "Similarity, a painting is painted by a single painter, but each painter can paint many paintings.\n",
        "\"\"\"\n",
        "\n",
        "prompt = f\"\"\"\n",
        "The task is to extract an Entity-relationship diagram from natural language requirements.\n",
        "To do that, these requirements should be simplified as much as possible for the extraction of entities,\n",
        "attributes and relationships (i.e. short and simple sentences, explicit subjects, etc.).\n",
        "Two examples of semplification are given below, where the 'input text' is the original text and the 'output text' is the simplified text:\n",
        "\n",
        "Input text:\n",
        "'\n",
        "{ex1_input}\n",
        "'\n",
        "\n",
        "Output text:\n",
        "'\n",
        "{ex1_output}\n",
        "'\n",
        "\n",
        "Input text:\n",
        "'\n",
        "{ex2_input}\n",
        "'\n",
        "\n",
        "Output text:\n",
        "'\n",
        "{ex2_output}\n",
        "'\n",
        "\n",
        "Simplify as shown above the following text delimited by triple backticks, remembering to not remove any information, creating short and simple sentences and pay attention to not repeat any sentence if there are synonyms:\n",
        "\n",
        "Text:\n",
        "```{text}```\n",
        "\"\"\"\n",
        "\n",
        "answers = []\n",
        "print(\"___________\")\n",
        "for i in range(1):\n",
        "    response = get_completion(prompt)\n",
        "    answers.append(response)\n",
        "\n",
        "for x in answers:\n",
        "    print(x)\n",
        "\n",
        "    print(\"___________\")\n",
        "\n",
        "print('Correct output text:\\n', correct_text)"
      ],
      "metadata": {
        "colab": {
          "base_uri": "https://localhost:8080/"
        },
        "id": "Smb7Z6ge0rts",
        "outputId": "efd1921e-16a6-43c4-abd2-763ceac35b21"
      },
      "execution_count": null,
      "outputs": [
        {
          "output_type": "stream",
          "name": "stdout",
          "text": [
            "___________\n",
            "Output text:\n",
            "```\n",
            "The database stores painters, paintings, and galleries.\n",
            "Painters have a number, name, and phone number. The painter's number is unique.\n",
            "Paintings have a number, title, and price. The painting's number is unique.\n",
            "Galleries have a number, owner, phone number, commission rate, and address. The gallery's number is unique.\n",
            "A painting is created by one painter. The painting is displayed in one gallery.\n",
            "A gallery can display multiple paintings. Each painting is displayed in only one gallery.\n",
            "A painting is created by one painter. Each painter can create multiple paintings.\n",
            "```\n",
            "___________\n",
            "Correct output text:\n",
            " \n",
            "The database must store painters, paintings, and galleries.\n",
            "Painters have a number, name, and phone number. The painter’s number is unique.\n",
            "Paintings have a number, title and price. The painting’s number is unique.\n",
            "Galleries have a number, owner, phone number, commission rate and address. The gallerie’s number is unique.\n",
            "A painting is painted by a unique artist, and the painting is exhibited in a unique gallery.\n",
            "A gallery can exhibit many paintings, but each painting can be exhibited in only one gallery.\n",
            "Each painter can paint many paintings.\n",
            "\n"
          ]
        }
      ]
    },
    {
      "cell_type": "markdown",
      "source": [
        "Few-shot prompting - attempt 2\n",
        "\n",
        "Previous prompt with different input (testing purposes 2)"
      ],
      "metadata": {
        "id": "uz9xFwKS6bI2"
      }
    },
    {
      "cell_type": "code",
      "source": [
        "correct_text = \"\"\"\n",
        "The database stores book, author, publisher and warehouse.\n",
        "Every book has a title, isbn, year and price.\n",
        "The book’s isbn is unique. Every author has an id, name, address and the URL.\n",
        "Each author can write many books, and each book can have many authors.\n",
        "Every publisher has an id, name, address, phone number and an URL. Books are stored at several warehouses.\n",
        "A warehouse has a code, address and phone number. A book has only one publisher.\n",
        "The warehouse stocks many books. A book may be stocked at multiple warehouses. A book has number of copies.\n",
        "\"\"\""
      ],
      "metadata": {
        "id": "Aog_7FpI6k8m"
      },
      "execution_count": null,
      "outputs": []
    },
    {
      "cell_type": "code",
      "source": [
        "text = \"\"\"\n",
        "The database must store book, author, publisher and warehouse information.\n",
        "For every book you must capture the title, isbn, year and price information.\n",
        "The isbn value is unique for a book. For every author you must store an id, name, address and the URL of their homepage.\n",
        "Each author can write many books, and each book can have many authors, for example.\n",
        "For every publisher you must store an id, name, address, phone number and an URL of their website.\n",
        "Books are stored at several warehouses, each of which has a code, address and phone number. A book has only one publisher.\n",
        "The warehouse stocks many different books. A book may be stocked at multiple warehouses.\n",
        "The database records the number of copies of a book stocked at various warehouses.\n",
        "\"\"\"\n",
        "\n",
        "prompt = f\"\"\"\n",
        "The task is to extract an Entity-relationship diagram from natural language requirements.\n",
        "To do that, these requirements should be simplified as much as possible for the extraction of entities,\n",
        "attributes and relationships (i.e. short and simple sentences, explicit subjects, etc.).\n",
        "Two examples of semplification are given below, where the 'input text' is the original text and the 'output text' is the simplified text:\n",
        "\n",
        "Input text:\n",
        "'\n",
        "{ex1_input}\n",
        "'\n",
        "\n",
        "Output text:\n",
        "'\n",
        "{ex1_output}\n",
        "'\n",
        "\n",
        "Input text:\n",
        "'\n",
        "{ex2_input}\n",
        "'\n",
        "\n",
        "Output text:\n",
        "'\n",
        "{ex2_output}\n",
        "'\n",
        "\n",
        "Simplify as shown above the following text delimited by triple backticks, remembering to not remove any information, creating short and simple sentences and pay attention to not repeat any sentence if there are synonyms:\n",
        "\n",
        "Text:\n",
        "```{text}```\n",
        "\"\"\"\n",
        "\n",
        "answers = []\n",
        "print(\"___________\")\n",
        "for i in range(1):\n",
        "    response = get_completion(prompt)\n",
        "    answers.append(response)\n",
        "\n",
        "for x in answers:\n",
        "    print(x)\n",
        "\n",
        "    print(\"___________\")\n",
        "\n",
        "print('Correct output text:\\n', correct_text)"
      ],
      "metadata": {
        "colab": {
          "base_uri": "https://localhost:8080/"
        },
        "id": "TYBxDBct6h11",
        "outputId": "fa79d0c7-45d6-4592-8665-1d4c8fdb3a38"
      },
      "execution_count": null,
      "outputs": [
        {
          "output_type": "stream",
          "name": "stdout",
          "text": [
            "___________\n",
            "```\n",
            "The database must store book, author, publisher and warehouse information.\n",
            "A book has a title, isbn, year and price. The book's isbn is unique.\n",
            "An author has an id, name, address and homepage URL. The author's id is unique.\n",
            "An author can write many books. A book can have many authors.\n",
            "A publisher has an id, name, address, phone number and website URL. The publisher's id is unique.\n",
            "A book is published by a unique publisher.\n",
            "A warehouse has a code, address and phone number. The warehouse's code is unique.\n",
            "A warehouse can stock many books. A book can be stocked in many warehouses.\n",
            "The database records the number of copies of a book in a warehouse.\n",
            "```\n",
            "___________\n",
            "Correct output text:\n",
            " \n",
            "The database stores book, author, publisher and warehouse.\n",
            "Every book has a title, isbn, year and price.\n",
            "The book’s isbn is unique. Every author has an id, name, address and the URL.\n",
            "Each author can write many books, and each book can have many authors.\n",
            "Every publisher has an id, name, address, phone number and an URL. Books are stored at several warehouses.\n",
            "A warehouse has a code, address and phone number. A book has only one publisher.\n",
            "The warehouse stocks many books. A book may be stocked at multiple warehouses. A book has number of copies. \n",
            "\n"
          ]
        }
      ]
    },
    {
      "cell_type": "markdown",
      "source": [
        "Few-shot prompting - attempt 2\n",
        "\n",
        "Previous prompt with different input (testing purposes 2)\n",
        "\n",
        "Problems:\n",
        "- If there are words with '_' or '-', it would be better to modify them directly using GPT in the text to avoid extracting and modifying them later."
      ],
      "metadata": {
        "id": "IPiSbkRkB8BV"
      }
    },
    {
      "cell_type": "code",
      "source": [
        "correct_text = \"\"\"\n",
        "Physicians have ID and specialty. The physicians’ ID is unique. Patients have ID and name.\n",
        "Physicians admits one or more patients. A patient is admitted by one physician.\n",
        "A physician treats zero or more patients. A patient is treated by one or more physicians.\n",
        "The patients’ ID is unique. A patient has one physician. If the patient is treated, it has one or more treatment details.\n",
        "Treatment details have date, time and result.\n",
        "\"\"\""
      ],
      "metadata": {
        "id": "F_fpOa7UCFgo"
      },
      "execution_count": null,
      "outputs": []
    },
    {
      "cell_type": "code",
      "source": [
        "text = \"\"\"\n",
        "A hospital has a large number of registered physicians. Attributes of PHYSICIANS include Physician_ID (the identifier) and Specialty.\n",
        "Patients are admitted to the hospital by physicians. Attributes of PATIENT include Patient_ID (the identifier) and PatientName.\n",
        "Any patient who is admitted must have exactly one admitting physician. A physician may optionally admit any number of patients.\n",
        "Once admitted, a given patient must be treated by at least one physician.\n",
        "A particular physician may treat any number of patients, or may not treat any patients.\n",
        "Whenever a patient is treated by a physician, the hospital wishes to record the details of the treatment (Treatment_Detail).\n",
        "Components of the Treatment_Detail include Date, Time, and Result.\n",
        "\"\"\"\n",
        "\n",
        "prompt = f\"\"\"\n",
        "The task is to extract an Entity-relationship diagram from natural language requirements.\n",
        "To do that, these requirements should be simplified as much as possible for the extraction of entities,\n",
        "attributes and relationships (i.e. short and simple sentences, explicit subjects, etc.).\n",
        "Two examples of semplification are given below, where the 'input text' is the original text and the 'output text' is the simplified text:\n",
        "\n",
        "Input text:\n",
        "'\n",
        "{ex1_input}\n",
        "'\n",
        "\n",
        "Output text:\n",
        "'\n",
        "{ex1_output}\n",
        "'\n",
        "\n",
        "Input text:\n",
        "'\n",
        "{ex2_input}\n",
        "'\n",
        "\n",
        "Output text:\n",
        "'\n",
        "{ex2_output}\n",
        "'\n",
        "\n",
        "Simplify as shown above the following text delimited by triple backticks, remembering to not remove any information, creating short and simple sentences and pay attention to not repeat any sentence if there are synonyms:\n",
        "\n",
        "Text:\n",
        "```{text}```\n",
        "\"\"\"\n",
        "\n",
        "answers = []\n",
        "print(\"___________\")\n",
        "for i in range(1):\n",
        "    response = get_completion(prompt)\n",
        "    answers.append(response)\n",
        "\n",
        "for x in answers:\n",
        "    print(x)\n",
        "\n",
        "    print(\"___________\")\n",
        "\n",
        "print('Correct output text:\\n', correct_text)\n",
        "\n",
        "\n",
        "# A hospital has a large number of registered physicians. Attributes of PHYSICIANS include Physician_ID (the identifier) and Specialty.\n",
        "# Patients are admitted to the hospital by physicians. Attributes of PATIENT include Patient_ID (the identifier) and PatientName.\n",
        "# Any patient who is admitted must have exactly one admitting physician. A physician may optionally admit any number of patients.\n",
        "# Once admitted, a given patient must be treated by at least one physician. A particular physician may treat any number of patients, or may not treat any patients.\n",
        "# Whenever a patient is treated by a physician, the hospital wishes to record the details of the treatment (Treatment_Detail). Components of the Treatment_Detail include Date, Time, and Result."
      ],
      "metadata": {
        "colab": {
          "base_uri": "https://localhost:8080/"
        },
        "id": "hyUlm3XmCJRH",
        "outputId": "3f8ee261-4219-46d5-a125-00e4c1c31be2"
      },
      "execution_count": null,
      "outputs": [
        {
          "output_type": "stream",
          "name": "stdout",
          "text": [
            "___________\n",
            "```\n",
            "A hospital has many registered physicians. A physician has a Physician_ID and Specialty. The Physician_ID is unique.\n",
            "Patients are admitted to the hospital by physicians. A patient has a Patient_ID and PatientName. The Patient_ID is unique.\n",
            "A patient is admitted by exactly one physician. A physician can admit zero or many patients.\n",
            "A patient is treated by at least one physician. A physician can treat zero or many patients.\n",
            "The hospital records the treatment details. The treatment detail includes Date, Time, and Result.\n",
            "```\n",
            "___________\n",
            "Correct output text:\n",
            " \n",
            "Physicians have ID and specialty. The physicians’ ID is unique. Patients have ID and name.\n",
            "Physicians admits one or more patients. A patient is admitted by one physician.\n",
            "A physician treats zero or more patients. A patient is treated by one or more physicians.\n",
            "The patients’ ID is unique. A patient has one physician. If the patient is treated, it has one or more treatment details.\n",
            "Treatment details have date, time and result.\n",
            "\n"
          ]
        }
      ]
    },
    {
      "cell_type": "markdown",
      "source": [
        "Few-shot prompting - attempt 3"
      ],
      "metadata": {
        "id": "mTPFq2-VEh_D"
      }
    },
    {
      "cell_type": "code",
      "source": [
        "text = \"\"\"\n",
        "A hospital has a large number of registered physicians. Attributes of PHYSICIANS include Physician_ID (the identifier) and Specialty.\n",
        "Patients are admitted to the hospital by physicians. Attributes of PATIENT include Patient_ID (the identifier) and PatientName.\n",
        "Any patient who is admitted must have exactly one admitting physician. A physician may optionally admit any number of patients.\n",
        "Once admitted, a given patient must be treated by at least one physician.\n",
        "A particular physician may treat any number of patients, or may not treat any patients.\n",
        "Whenever a patient is treated by a physician, the hospital wishes to record the details of the treatment (Treatment_Detail).\n",
        "Components of the Treatment_Detail include Date, Time, and Result.\n",
        "\"\"\"\n",
        "\n",
        "prompt = f\"\"\"\n",
        "The task is to extract an Entity-relationship diagram from natural language requirements.\n",
        "To do that, these requirements should be simplified as much as possible for the extraction of entities,\n",
        "attributes and relationships (i.e. short and simple sentences, explicit subjects, etc.).\n",
        "Two examples of semplification are given below, where the 'input text' is the original text and the 'output text' is the simplified text:\n",
        "\n",
        "Input text:\n",
        "'\n",
        "{ex1_input}\n",
        "'\n",
        "\n",
        "Output text:\n",
        "'\n",
        "{ex1_output}\n",
        "'\n",
        "\n",
        "Input text:\n",
        "'\n",
        "{ex2_input}\n",
        "'\n",
        "\n",
        "Output text:\n",
        "'\n",
        "{ex2_output}\n",
        "'\n",
        "\n",
        "Simplify as shown above the following text delimited by triple backticks, remembering to not remove any information, creating short and simple sentences and pay attention to not repeat any sentence if there are synonyms.\n",
        "If there are words composed with '-' or '_' or in camel case, maintain only the main token (i.e. the possessed token, e.g. in 'person_id', maintain id):\n",
        "\n",
        "Text:\n",
        "```{text}```\n",
        "\"\"\"\n",
        "\n",
        "answers = []\n",
        "print(\"___________\")\n",
        "for i in range(1):\n",
        "    response = get_completion(prompt)\n",
        "    answers.append(response)\n",
        "\n",
        "for x in answers:\n",
        "    print(x)\n",
        "\n",
        "    print(\"___________\")\n",
        "\n",
        "print('Correct output text:\\n', correct_text)"
      ],
      "metadata": {
        "colab": {
          "base_uri": "https://localhost:8080/"
        },
        "id": "KeiUcCRdEnWn",
        "outputId": "584fb32d-ad75-4c68-ff03-d5878f8e3ee3"
      },
      "execution_count": null,
      "outputs": [
        {
          "output_type": "stream",
          "name": "stdout",
          "text": [
            "___________\n",
            "```\n",
            "A hospital has many physicians. Physicians have an ID and Specialty. The physician's ID is unique.\n",
            "Patients are admitted to the hospital by physicians. Patients have an ID and name. The patient's ID is unique.\n",
            "A patient is admitted by exactly one physician. A physician can admit zero or many patients.\n",
            "A patient is treated by at least one physician. A physician can treat zero or many patients.\n",
            "The hospital records the treatment details. The treatment detail includes date, time, and result.\n",
            "```\n",
            "___________\n",
            "Correct output text:\n",
            " \n",
            "Physicians have ID and specialty. The physicians’ ID is unique. Patients have ID and name.\n",
            "Physicians admits one or more patients. A patient is admitted by one physician.\n",
            "A physician treats zero or more patients. A patient is treated by one or more physicians.\n",
            "The patients’ ID is unique. A patient has one physician. If the patient is treated, it has one or more treatment details.\n",
            "Treatment details have date, time and result.\n",
            "\n"
          ]
        }
      ]
    },
    {
      "cell_type": "markdown",
      "source": [
        "Few-shot prompting - attemp 3\n",
        "\n",
        "Previous prompt with different input (testing purposes)"
      ],
      "metadata": {
        "id": "zL-S9ZbMRWST"
      }
    },
    {
      "cell_type": "code",
      "source": [
        "correct_text = \"\"\"\n",
        "Each member has an ID, name, zip, payment date. The member’s ID is unique. Each membership type has an ID, name and price.\n",
        "The membership type’s ID is unique. Each pass category has an ID, name and price. The ID is unique. Each one day pass has the ID and date.\n",
        "The one day pass’ ID is unique. Each merchandise item has an ID, name and price. The merchandise item’s ID is unique.\n",
        "Each sale transaction has an ID and date. The transaction’s ID is unique. A member pays for one membership type.\n",
        "A membership type has one or more members. Each member can buy zero or more one day passes. Each day pass is bought by one member.\n",
        "Each one day pass belongs to one pass category. Each pass category can have zero or more one day passes. Each sale transaction involves one member.\n",
        "Each member can be involved in zero or more sale transactions. Each merchandise item is sold through one or more sale transaction.\n",
        "Each sale transaction involves one or more merchandise item. Every time a merchandise item is sold via a sale transaction, we keep track of the sold quantity.\n",
        "\"\"\""
      ],
      "metadata": {
        "id": "tTa9apiSRvtI"
      },
      "execution_count": null,
      "outputs": []
    },
    {
      "cell_type": "code",
      "source": [
        "text = \"\"\"\n",
        "For each MEMBER we keep track of the unique MemdID, a well as Name, Zip, and the Date the membership was paid.\n",
        "For each MEMBERSHIP type we keep track of the unique Mid, as well as MName and Price.\n",
        "For each PASS CATEGORY we keep track of the unique PassCatID, as well as PCName and Price.\n",
        "For each ONE DAY PASS we keep track of the unique PassID and Date.\n",
        "For each MERCHANDISE item we keep track of the unique MrchID, as well as Name and Price.\n",
        "For each sale TRANSACTION we keep track of the unique Tid and Date.\n",
        "Each member pays for exactly one membership type; each membership type has at least one member but can have many members.\n",
        "Each member can buy many day passes but does not have to buy any, each day pass was bought by exactly one member.\n",
        "Each day pass belongs to exactly one pass category; a pass category can have many individual day passes issued for it but does not have to have any.\n",
        "Each sale transaction involves exactly one member; each member can be involved in many sale transactions but does not have to be involved in any.\n",
        "Each merchandise item is sold via at least one sale transaction but it can be sold via many sale transactions; each sale transaction involves at least one merchandise item but can involve many merchandise items.\n",
        "Every time a merchandise item is sold via a sale transaction, we keep track of the quantity.\n",
        "\"\"\"\n",
        "\n",
        "prompt = f\"\"\"\n",
        "The task is to extract an Entity-relationship diagram from natural language requirements.\n",
        "To do that, these requirements should be simplified as much as possible for the extraction of entities,\n",
        "attributes and relationships (i.e. short and simple sentences, explicit subjects, etc.).\n",
        "Two examples of semplification are given below, where the 'input text' is the original text and the 'output text' is the simplified text:\n",
        "\n",
        "Input text:\n",
        "'\n",
        "{ex1_input}\n",
        "'\n",
        "\n",
        "Output text:\n",
        "'\n",
        "{ex1_output}\n",
        "'\n",
        "\n",
        "Input text:\n",
        "'\n",
        "{ex2_input}\n",
        "'\n",
        "\n",
        "Output text:\n",
        "'\n",
        "{ex2_output}\n",
        "'\n",
        "\n",
        "Simplify as shown above the following text delimited by triple backticks, remembering to not remove any information, creating short and simple sentences and pay attention to not repeat any sentence if there are synonyms.\n",
        "If there are words composed with '-' or '_' or in camel case, maintain only the main token (i.e. the possessed token, e.g. in 'person_id', maintain id):\n",
        "\n",
        "Text:\n",
        "```{text}```\n",
        "\"\"\"\n",
        "\n",
        "answers = []\n",
        "print(\"___________\")\n",
        "for i in range(1):\n",
        "    response = get_completion(prompt)\n",
        "    answers.append(response)\n",
        "\n",
        "for x in answers:\n",
        "    print(x)\n",
        "\n",
        "    print(\"___________\")\n",
        "\n",
        "print('Correct output text:\\n', correct_text)"
      ],
      "metadata": {
        "colab": {
          "base_uri": "https://localhost:8080/"
        },
        "id": "C941ZUApRh_U",
        "outputId": "09401f68-a8c0-4611-a043-32fcad4cc0dc"
      },
      "execution_count": null,
      "outputs": [
        {
          "output_type": "stream",
          "name": "stdout",
          "text": [
            "___________\n",
            "```\n",
            "Each member has a MemdID, Name, Zip, and Date. The MemdID is unique.\n",
            "Each membership type has a Mid, MName, and Price. The Mid is unique.\n",
            "Each pass category has a PassCatID, PCName, and Price. The PassCatID is unique.\n",
            "Each one day pass has a PassID and Date. The PassID is unique.\n",
            "Each merchandise item has a MrchID, Name, and Price. The MrchID is unique.\n",
            "Each sale transaction has a Tid and Date. The Tid is unique.\n",
            "A member pays for exactly one membership type. A membership type can have one or many members.\n",
            "A member can buy zero or many day passes. Each day pass is bought by a unique member.\n",
            "A day pass belongs to a unique pass category. A pass category can have zero or many day passes.\n",
            "A sale transaction involves a unique member. A member can be involved in zero or many sale transactions.\n",
            "A merchandise item is sold via one or many sale transactions. A sale transaction involves one or many merchandise items.\n",
            "Each sale transaction has a quantity.\n",
            "```\n",
            "___________\n",
            "Correct output text:\n",
            " \n",
            "Each member has an ID, name, zip, payment date. The member’s ID is unique. Each membership type has an ID, name and price.\n",
            "The membership type’s ID is unique. Each pass category has an ID, name and price. The ID is unique. Each one day pass has the ID and date.\n",
            "The one day pass’ ID is unique. Each merchandise item has an ID, name and price. The merchandise item’s ID is unique.\n",
            "Each sale transaction has an ID and date. The transaction’s ID is unique. A member pays for one membership type.\n",
            "A membership type has one or more members. Each member can buy zero or more one day passes. Each day pass is bought by one member.\n",
            "Each one day pass belongs to one pass category. Each pass category can have zero or more one day passes. Each sale transaction involves one member.\n",
            "Each member can be involved in zero or more sale transactions. Each merchandise item is sold through one or more sale transaction.\n",
            "Each sale transaction involves one or more merchandise item. Every time a merchandise item is sold via a sale transaction, we keep track of the sold quantity.\n",
            "\n"
          ]
        }
      ]
    },
    {
      "cell_type": "markdown",
      "source": [
        "Few-shot prompting - attemp 4 - final one\n",
        "\n",
        "derived from prompt 3, short modification in the task explanation"
      ],
      "metadata": {
        "id": "yOP-9tCNRqH7"
      }
    },
    {
      "cell_type": "code",
      "source": [
        "text = \"\"\"\n",
        "For each MEMBER we keep track of the unique MemdID, a well as Name, Zip, and the Date the membership was paid.\n",
        "For each MEMBERSHIP type we keep track of the unique Mid, as well as MName and Price.\n",
        "For each PASS CATEGORY we keep track of the unique PassCatID, as well as PCName and Price.\n",
        "For each ONE DAY PASS we keep track of the unique PassID and Date.\n",
        "For each MERCHANDISE item we keep track of the unique MrchID, as well as Name and Price.\n",
        "For each sale TRANSACTION we keep track of the unique Tid and Date.\n",
        "Each member pays for exactly one membership type; each membership type has at least one member but can have many members.\n",
        "Each member can buy many day passes but does not have to buy any, each day pass was bought by exactly one member.\n",
        "Each day pass belongs to exactly one pass category; a pass category can have many individual day passes issued for it but does not have to have any.\n",
        "Each sale transaction involves exactly one member; each member can be involved in many sale transactions but does not have to be involved in any.\n",
        "Each merchandise item is sold via at least one sale transaction but it can be sold via many sale transactions; each sale transaction involves at least one merchandise item but can involve many merchandise items.\n",
        "Every time a merchandise item is sold via a sale transaction, we keep track of the quantity.\n",
        "\"\"\"\n",
        "\n",
        "prompt = f\"\"\"\n",
        "The task is to extract an Entity-relationship diagram from natural language requirements.\n",
        "To do that, these requirements should be simplified as much as possible for the extraction of entities,\n",
        "attributes and relationships (i.e. short and simple sentences, explicit subjects, etc.).\n",
        "Two examples of semplification are given below, where the 'input text' is the original text and the 'output text' is the simplified text:\n",
        "\n",
        "Input text:\n",
        "'\n",
        "{ex1_input}\n",
        "'\n",
        "\n",
        "Output text:\n",
        "'\n",
        "{ex1_output}\n",
        "'\n",
        "\n",
        "Input text:\n",
        "'\n",
        "{ex2_input}\n",
        "'\n",
        "\n",
        "Output text:\n",
        "'\n",
        "{ex2_output}\n",
        "'\n",
        "\n",
        "Simplify as shown above the following text delimited by triple backticks, remembering to not remove any information, creating short and simple sentences and pay attention to not repeat any sentence if there are synonyms.\n",
        "If there are words composed with '-' or '_' or in camel case, maintain only the main token (i.e. the possessed token, e.g. in 'person_id', maintain id). Return as output only the modified text:\n",
        "\n",
        "Text:\n",
        "```{text}```\n",
        "\"\"\"\n",
        "\n",
        "answers = []\n",
        "print(\"___________\")\n",
        "for i in range(1):\n",
        "    response = get_completion(prompt)\n",
        "    answers.append(response)\n",
        "\n",
        "for x in answers:\n",
        "    print(x)\n",
        "\n",
        "    print(\"___________\")\n",
        "\n",
        "print('Correct output text:\\n', correct_text)"
      ],
      "metadata": {
        "colab": {
          "base_uri": "https://localhost:8080/"
        },
        "id": "xfUGVnuelp49",
        "outputId": "a3d44c00-d654-4ecd-b6d3-a7cf6643db22"
      },
      "execution_count": null,
      "outputs": [
        {
          "output_type": "stream",
          "name": "stdout",
          "text": [
            "___________\n",
            "```\n",
            "Each MEMBER has a MemdID, Name, Zip, and Date. The MemdID is unique.\n",
            "Each MEMBERSHIP type has a Mid, MName and Price. The Mid is unique.\n",
            "Each PASS CATEGORY has a PassCatID, PCName and Price. The PassCatID is unique.\n",
            "Each ONE DAY PASS has a PassID and Date. The PassID is unique.\n",
            "Each MERCHANDISE item has a MrchID, Name and Price. The MrchID is unique.\n",
            "Each TRANSACTION has a Tid and Date. The Tid is unique.\n",
            "A member pays for exactly one membership type. A membership type can have one or many members.\n",
            "A member can buy many day passes. Each day pass is bought by exactly one member.\n",
            "A day pass belongs to exactly one pass category. A pass category can have many day passes.\n",
            "A transaction involves exactly one member. A member can be involved in many transactions.\n",
            "A merchandise item is sold via one or many transactions. A transaction involves one or many merchandise items.\n",
            "Each time a merchandise item is sold, we keep track of the quantity.\n",
            "```\n",
            "___________\n",
            "Correct output text:\n",
            " \n",
            "Each member has an ID, name, zip, payment date. The member’s ID is unique. Each membership type has an ID, name and price.\n",
            "The membership type’s ID is unique. Each pass category has an ID, name and price. The ID is unique. Each one day pass has the ID and date.\n",
            "The one day pass’ ID is unique. Each merchandise item has an ID, name and price. The merchandise item’s ID is unique.\n",
            "Each sale transaction has an ID and date. The transaction’s ID is unique. A member pays for one membership type.\n",
            "A membership type has one or more members. Each member can buy zero or more one day passes. Each day pass is bought by one member.\n",
            "Each one day pass belongs to one pass category. Each pass category can have zero or more one day passes. Each sale transaction involves one member.\n",
            "Each member can be involved in zero or more sale transactions. Each merchandise item is sold through one or more sale transaction.\n",
            "Each sale transaction involves one or more merchandise item. Every time a merchandise item is sold via a sale transaction, we keep track of the sold quantity.\n",
            "\n"
          ]
        }
      ]
    }
  ]
}